{
 "cells": [
  {
   "cell_type": "code",
   "execution_count": 3,
   "id": "65a312a3-55a2-4e42-9956-98e5afb21692",
   "metadata": {},
   "outputs": [],
   "source": [
    "# !pip install mediapipe"
   ]
  },
  {
   "cell_type": "code",
   "execution_count": 4,
   "id": "8f5d7e89-da04-4e54-bb55-48ad6deded94",
   "metadata": {},
   "outputs": [],
   "source": [
    "import os\n",
    "import cv2\n",
    "import glob\n",
    "import random\n",
    "import numpy as np\n",
    "import pandas as pd\n",
    "import seaborn as sns\n",
    "from tqdm import tqdm\n",
    "import matplotlib.pyplot as plt\n",
    "\n",
    "import math\n",
    "from typing import List, Mapping, Optional, Tuple, Union\n",
    "\n",
    "import dataclasses\n",
    "\n",
    "from mediapipe.framework.formats import detection_pb2\n",
    "from mediapipe.framework.formats import location_data_pb2\n",
    "from mediapipe.framework.formats import landmark_pb2"
   ]
  },
  {
   "cell_type": "code",
   "execution_count": 5,
   "id": "ed106585-e7d9-4d1e-862a-48b96a19ab73",
   "metadata": {},
   "outputs": [],
   "source": [
    "from PIL import Image\n",
    "from tqdm import tqdm\n",
    "from scipy import ndimage\n",
    "\n",
    "from matplotlib import cm, colors, colormaps\n",
    "import matplotlib.pyplot as plt\n",
    "import matplotlib.animation as ani\n",
    "import matplotlib.patches as patches"
   ]
  },
  {
   "cell_type": "code",
   "execution_count": null,
   "id": "1ab034b0-d91b-4c8d-ae02-1140b9f268d3",
   "metadata": {},
   "outputs": [],
   "source": []
  },
  {
   "cell_type": "code",
   "execution_count": 6,
   "id": "75624b72-85fb-4a17-b8c6-018a700b1505",
   "metadata": {},
   "outputs": [],
   "source": [
    "# # fnames = sorted( glob.glob('./5kBabies/csvs_dir*/*.csv') )\n",
    "# fnames = sorted( glob.glob('./csvs_dir*/*.csv') )"
   ]
  },
  {
   "cell_type": "code",
   "execution_count": 7,
   "id": "0a12afb9-e783-41d9-807b-f7684f1d75ab",
   "metadata": {},
   "outputs": [],
   "source": [
    "# fnames[:5]"
   ]
  },
  {
   "cell_type": "code",
   "execution_count": 8,
   "id": "9566faff-4116-4c77-ad16-392fd13aa3a2",
   "metadata": {},
   "outputs": [],
   "source": [
    "# len(fnames)"
   ]
  },
  {
   "cell_type": "code",
   "execution_count": null,
   "id": "1af175eb-b292-4e9d-8a60-668dd888469b",
   "metadata": {},
   "outputs": [],
   "source": []
  },
  {
   "cell_type": "code",
   "execution_count": 5,
   "id": "07faa781-9873-40a8-be7a-285e9e03b005",
   "metadata": {},
   "outputs": [],
   "source": [
    "# id2fnames = {}\n",
    "# for fname in fnames:\n",
    "#     id2fnames[ int(fname.split('/')[-1].split('-')[0]) ] = fname"
   ]
  },
  {
   "cell_type": "code",
   "execution_count": 6,
   "id": "f6bdf9f2-65eb-4eb3-ab8f-0a950960b6f6",
   "metadata": {},
   "outputs": [],
   "source": [
    "# list(id2fnames.keys())[:5]"
   ]
  },
  {
   "cell_type": "code",
   "execution_count": 7,
   "id": "5c23ccc9-78ea-4330-9a9e-fc39053e7ead",
   "metadata": {},
   "outputs": [],
   "source": [
    "# list(id2fnames.values())[:5]"
   ]
  },
  {
   "cell_type": "code",
   "execution_count": null,
   "id": "ef0c1f51-c3af-44c5-8b6d-b33a7b4a4bb9",
   "metadata": {},
   "outputs": [],
   "source": []
  },
  {
   "cell_type": "code",
   "execution_count": 8,
   "id": "9f8bb2b4-e182-41c6-873c-03ae4392c8f8",
   "metadata": {},
   "outputs": [],
   "source": [
    "# df_labels = pd.read_excel('./Patrick_List of subjects.xlsx')"
   ]
  },
  {
   "cell_type": "code",
   "execution_count": 9,
   "id": "cb3c7130-8db3-461c-b63d-6939adaef5a8",
   "metadata": {},
   "outputs": [],
   "source": [
    "# df_labels"
   ]
  },
  {
   "cell_type": "code",
   "execution_count": 10,
   "id": "2416d5aa-7292-4b67-bc06-5a4adcd93a9f",
   "metadata": {},
   "outputs": [],
   "source": [
    "# df_labels.shape"
   ]
  },
  {
   "cell_type": "code",
   "execution_count": null,
   "id": "5382dc7a-931d-47e0-a948-e83992de8410",
   "metadata": {},
   "outputs": [],
   "source": []
  },
  {
   "cell_type": "code",
   "execution_count": 11,
   "id": "6da068c0-319d-4bc4-8996-fac2979f7b5b",
   "metadata": {},
   "outputs": [],
   "source": [
    "# df_labels_728 = df_labels.iloc[:-2]"
   ]
  },
  {
   "cell_type": "code",
   "execution_count": 12,
   "id": "d95fcf08-d686-4c7b-b766-25086000b2a7",
   "metadata": {},
   "outputs": [],
   "source": [
    "# df_labels_728.shape"
   ]
  },
  {
   "cell_type": "code",
   "execution_count": 13,
   "id": "2aa533da-c2b9-4270-9fe5-e45a5177e66d",
   "metadata": {},
   "outputs": [],
   "source": [
    "# df_labels_728.columns = ['study_id', 'normal_aberrant',  'has_other_subject_id', 'subject_id']"
   ]
  },
  {
   "cell_type": "code",
   "execution_count": 14,
   "id": "e4987b4b-a0a0-497c-b839-026439afabff",
   "metadata": {},
   "outputs": [],
   "source": [
    "# df_labels_728 = df_labels_728[['study_id', 'subject_id', 'has_other_subject_id', 'normal_aberrant']]"
   ]
  },
  {
   "cell_type": "code",
   "execution_count": 15,
   "id": "e9d53ef4-681b-4e98-afad-8802242027d6",
   "metadata": {},
   "outputs": [],
   "source": [
    "# df_labels_728['has_other_subject_id'] = df_labels_728['has_other_subject_id'].astype(bool)"
   ]
  },
  {
   "cell_type": "code",
   "execution_count": 16,
   "id": "7bb9c1f6-9bdf-46e5-84b8-783f38d7e0e1",
   "metadata": {},
   "outputs": [],
   "source": [
    "# df_labels_728.head()"
   ]
  },
  {
   "cell_type": "code",
   "execution_count": null,
   "id": "6377a3a1-2e2f-44c7-9f74-5615fa99b5e9",
   "metadata": {},
   "outputs": [],
   "source": []
  },
  {
   "cell_type": "code",
   "execution_count": 17,
   "id": "152eff5e-e945-431b-a2a1-fb216e5df3a8",
   "metadata": {},
   "outputs": [],
   "source": [
    "# fnames_data = []\n",
    "# for _, row in df_labels_728.iterrows():\n",
    "#     # if row['study_id'] != row['subject_id']:\n",
    "#     #     print(row)\n",
    "#     # print()\n",
    "#     study_id = row['study_id']\n",
    "#     if study_id in id2fnames:\n",
    "#         fnames_data.append( id2fnames[ study_id ])\n",
    "#     else:\n",
    "#         fnames_data.append( None )"
   ]
  },
  {
   "cell_type": "code",
   "execution_count": 18,
   "id": "6f1f8e37-7520-436d-a6c0-0860d067faa9",
   "metadata": {},
   "outputs": [],
   "source": [
    "# len(fnames_data)"
   ]
  },
  {
   "cell_type": "code",
   "execution_count": 19,
   "id": "fa65d641-dbf3-4c16-a85d-0888932d2192",
   "metadata": {},
   "outputs": [],
   "source": [
    "# df_labels_728['fname_data'] = fnames_data"
   ]
  },
  {
   "cell_type": "code",
   "execution_count": 20,
   "id": "268397a2-2a3d-41f7-8e8f-e7db66f66847",
   "metadata": {},
   "outputs": [],
   "source": [
    "# df_labels_726 = df_labels_728[~df_labels_728['fname_data'].isna()]"
   ]
  },
  {
   "cell_type": "code",
   "execution_count": null,
   "id": "4376fd6c-666e-4748-a61f-4b7361e6a864",
   "metadata": {},
   "outputs": [],
   "source": []
  },
  {
   "cell_type": "code",
   "execution_count": 21,
   "id": "ee68e80e-8cb0-4193-b663-2b6aebe0ea3e",
   "metadata": {},
   "outputs": [],
   "source": [
    "# df_labels_726.to_csv('./list_of_subjects_726_withFNAMES.csv', index=False)"
   ]
  },
  {
   "cell_type": "code",
   "execution_count": null,
   "id": "72928f80-58e2-4a31-a318-b33df1f255c0",
   "metadata": {},
   "outputs": [],
   "source": []
  },
  {
   "cell_type": "code",
   "execution_count": 22,
   "id": "acb72889-1750-4a90-8ed9-e4b3b3543f36",
   "metadata": {},
   "outputs": [],
   "source": [
    "df_meta = pd.read_csv('./list_of_subjects_726_withFNAMES.csv')"
   ]
  },
  {
   "cell_type": "code",
   "execution_count": 23,
   "id": "5736f17c-4748-4844-a1df-8741de2beb93",
   "metadata": {},
   "outputs": [
    {
     "data": {
      "text/html": [
       "<div>\n",
       "<style scoped>\n",
       "    .dataframe tbody tr th:only-of-type {\n",
       "        vertical-align: middle;\n",
       "    }\n",
       "\n",
       "    .dataframe tbody tr th {\n",
       "        vertical-align: top;\n",
       "    }\n",
       "\n",
       "    .dataframe thead th {\n",
       "        text-align: right;\n",
       "    }\n",
       "</style>\n",
       "<table border=\"1\" class=\"dataframe\">\n",
       "  <thead>\n",
       "    <tr style=\"text-align: right;\">\n",
       "      <th></th>\n",
       "      <th>study_id</th>\n",
       "      <th>subject_id</th>\n",
       "      <th>has_other_subject_id</th>\n",
       "      <th>normal_aberrant</th>\n",
       "      <th>fname_data</th>\n",
       "    </tr>\n",
       "  </thead>\n",
       "  <tbody>\n",
       "    <tr>\n",
       "      <th>0</th>\n",
       "      <td>592</td>\n",
       "      <td>592</td>\n",
       "      <td>True</td>\n",
       "      <td>Normal</td>\n",
       "      <td>data/csv/592-aafcb787-M-28-2010221627.csv</td>\n",
       "    </tr>\n",
       "    <tr>\n",
       "      <th>1</th>\n",
       "      <td>593</td>\n",
       "      <td>593</td>\n",
       "      <td>True</td>\n",
       "      <td>Normal</td>\n",
       "      <td>data/csv/593-0731adb1-F-34-2010221716.csv</td>\n",
       "    </tr>\n",
       "    <tr>\n",
       "      <th>2</th>\n",
       "      <td>1838</td>\n",
       "      <td>1838</td>\n",
       "      <td>True</td>\n",
       "      <td>Normal</td>\n",
       "      <td>data/csv/1838-1976fc8e-M-44-2010271018.csv</td>\n",
       "    </tr>\n",
       "    <tr>\n",
       "      <th>3</th>\n",
       "      <td>5388</td>\n",
       "      <td>5388</td>\n",
       "      <td>True</td>\n",
       "      <td>Aberrant</td>\n",
       "      <td>data/csv/5388-8d8a8bdc-M-165-2010271636.csv</td>\n",
       "    </tr>\n",
       "    <tr>\n",
       "      <th>4</th>\n",
       "      <td>8015</td>\n",
       "      <td>8015</td>\n",
       "      <td>True</td>\n",
       "      <td>Normal</td>\n",
       "      <td>data/csv/8015-d6a22f17-M-39-2010291126.csv</td>\n",
       "    </tr>\n",
       "    <tr>\n",
       "      <th>...</th>\n",
       "      <td>...</td>\n",
       "      <td>...</td>\n",
       "      <td>...</td>\n",
       "      <td>...</td>\n",
       "      <td>...</td>\n",
       "    </tr>\n",
       "    <tr>\n",
       "      <th>721</th>\n",
       "      <td>26341</td>\n",
       "      <td>NaN</td>\n",
       "      <td>True</td>\n",
       "      <td>Aberrant</td>\n",
       "      <td>data/csv/26341-3f0b11af-230510125836.csv</td>\n",
       "    </tr>\n",
       "    <tr>\n",
       "      <th>722</th>\n",
       "      <td>26345</td>\n",
       "      <td>NaN</td>\n",
       "      <td>True</td>\n",
       "      <td>Aberrant</td>\n",
       "      <td>data/csv/26345-3077fc95-230511111407.csv</td>\n",
       "    </tr>\n",
       "    <tr>\n",
       "      <th>723</th>\n",
       "      <td>26469</td>\n",
       "      <td>NaN</td>\n",
       "      <td>True</td>\n",
       "      <td>Aberrant</td>\n",
       "      <td>data/csv/26469-8ab03672-230607115705.csv</td>\n",
       "    </tr>\n",
       "    <tr>\n",
       "      <th>724</th>\n",
       "      <td>26585</td>\n",
       "      <td>NaN</td>\n",
       "      <td>True</td>\n",
       "      <td>Aberrant</td>\n",
       "      <td>data/csv/26585-0aeb7854-230717105743.csv</td>\n",
       "    </tr>\n",
       "    <tr>\n",
       "      <th>725</th>\n",
       "      <td>26604</td>\n",
       "      <td>NaN</td>\n",
       "      <td>True</td>\n",
       "      <td>Aberrant</td>\n",
       "      <td>data/csv/26604-8891d2f5-230725130919.csv</td>\n",
       "    </tr>\n",
       "  </tbody>\n",
       "</table>\n",
       "<p>726 rows × 5 columns</p>\n",
       "</div>"
      ],
      "text/plain": [
       "     study_id subject_id  has_other_subject_id normal_aberrant  \\\n",
       "0         592        592                  True          Normal   \n",
       "1         593        593                  True          Normal   \n",
       "2        1838       1838                  True          Normal   \n",
       "3        5388       5388                  True        Aberrant   \n",
       "4        8015       8015                  True          Normal   \n",
       "..        ...        ...                   ...             ...   \n",
       "721     26341        NaN                  True        Aberrant   \n",
       "722     26345        NaN                  True        Aberrant   \n",
       "723     26469        NaN                  True        Aberrant   \n",
       "724     26585        NaN                  True        Aberrant   \n",
       "725     26604        NaN                  True        Aberrant   \n",
       "\n",
       "                                      fname_data  \n",
       "0      data/csv/592-aafcb787-M-28-2010221627.csv  \n",
       "1      data/csv/593-0731adb1-F-34-2010221716.csv  \n",
       "2     data/csv/1838-1976fc8e-M-44-2010271018.csv  \n",
       "3    data/csv/5388-8d8a8bdc-M-165-2010271636.csv  \n",
       "4     data/csv/8015-d6a22f17-M-39-2010291126.csv  \n",
       "..                                           ...  \n",
       "721     data/csv/26341-3f0b11af-230510125836.csv  \n",
       "722     data/csv/26345-3077fc95-230511111407.csv  \n",
       "723     data/csv/26469-8ab03672-230607115705.csv  \n",
       "724     data/csv/26585-0aeb7854-230717105743.csv  \n",
       "725     data/csv/26604-8891d2f5-230725130919.csv  \n",
       "\n",
       "[726 rows x 5 columns]"
      ]
     },
     "execution_count": 23,
     "metadata": {},
     "output_type": "execute_result"
    }
   ],
   "source": [
    "df_meta"
   ]
  },
  {
   "cell_type": "code",
   "execution_count": 24,
   "id": "21278c8c-1cfe-4abe-bda9-4635463518cc",
   "metadata": {},
   "outputs": [
    {
     "data": {
      "text/plain": [
       "(726, 5)"
      ]
     },
     "execution_count": 24,
     "metadata": {},
     "output_type": "execute_result"
    }
   ],
   "source": [
    "df_meta.shape"
   ]
  },
  {
   "cell_type": "code",
   "execution_count": null,
   "id": "24cbea57-7fb6-40c3-ad46-f307e7cc76de",
   "metadata": {},
   "outputs": [],
   "source": []
  },
  {
   "cell_type": "code",
   "execution_count": null,
   "id": "45cd8b9d-9b7c-411b-9085-0187746a0099",
   "metadata": {},
   "outputs": [],
   "source": []
  },
  {
   "cell_type": "code",
   "execution_count": null,
   "id": "1ce6534b-ef83-49f8-9108-b943352a3d9c",
   "metadata": {},
   "outputs": [],
   "source": []
  },
  {
   "cell_type": "code",
   "execution_count": null,
   "id": "fd5d281c-8119-46a0-9a5a-a0e658724d9d",
   "metadata": {},
   "outputs": [],
   "source": [
    "# frame_counts = []\n",
    "# for fname_data in tqdm( df_meta['fname_data'] ):\n",
    "#     df_data = pd.read_csv(fname_data)\n",
    "#     frame_counts.append( df_data['frame'].iloc[-1] )"
   ]
  },
  {
   "cell_type": "code",
   "execution_count": null,
   "id": "8c40c491-421b-4874-b2a1-aae5f572aad5",
   "metadata": {},
   "outputs": [],
   "source": [
    "# np.sum(frame_counts)"
   ]
  },
  {
   "cell_type": "code",
   "execution_count": null,
   "id": "5945ab75-15a3-4c5f-8e48-ce4197e3d2b3",
   "metadata": {},
   "outputs": [],
   "source": [
    "# plt.hist( frame_counts, bins=20, )\n",
    "# plt.xlabel('Number of Frames')\n",
    "# plt.ylabel('Count')\n",
    "# plt.savefig('./frame_stats.pdf')\n",
    "# plt.show()"
   ]
  },
  {
   "cell_type": "code",
   "execution_count": null,
   "id": "afa32f97-833a-4689-a357-3dfd80e85690",
   "metadata": {},
   "outputs": [],
   "source": []
  },
  {
   "cell_type": "code",
   "execution_count": 61,
   "id": "6508acc0-58e1-4058-b58e-107da4c50746",
   "metadata": {},
   "outputs": [],
   "source": [
    "fname_data = df_meta.iloc[-1]['fname_data']"
   ]
  },
  {
   "cell_type": "code",
   "execution_count": 62,
   "id": "2cd49a87-de6a-40f3-a283-cad808a8c5cc",
   "metadata": {},
   "outputs": [
    {
     "data": {
      "text/plain": [
       "'data/csv/26604-8891d2f5-230725130919.csv'"
      ]
     },
     "execution_count": 62,
     "metadata": {},
     "output_type": "execute_result"
    }
   ],
   "source": [
    "fname_data"
   ]
  },
  {
   "cell_type": "code",
   "execution_count": 63,
   "id": "f2f57db4-343a-48c7-b219-ac8c7b7f6cef",
   "metadata": {},
   "outputs": [],
   "source": [
    "df_data = pd.read_csv( fname_data )"
   ]
  },
  {
   "cell_type": "code",
   "execution_count": 64,
   "id": "428b32f9-f730-45a6-ad78-7a540ff79bcd",
   "metadata": {},
   "outputs": [
    {
     "data": {
      "text/html": [
       "<div>\n",
       "<style scoped>\n",
       "    .dataframe tbody tr th:only-of-type {\n",
       "        vertical-align: middle;\n",
       "    }\n",
       "\n",
       "    .dataframe tbody tr th {\n",
       "        vertical-align: top;\n",
       "    }\n",
       "\n",
       "    .dataframe thead th {\n",
       "        text-align: right;\n",
       "    }\n",
       "</style>\n",
       "<table border=\"1\" class=\"dataframe\">\n",
       "  <thead>\n",
       "    <tr style=\"text-align: right;\">\n",
       "      <th></th>\n",
       "      <th>file_name</th>\n",
       "      <th>frame</th>\n",
       "      <th>landmark</th>\n",
       "      <th>x</th>\n",
       "      <th>y</th>\n",
       "      <th>z</th>\n",
       "      <th>visibility</th>\n",
       "    </tr>\n",
       "  </thead>\n",
       "  <tbody>\n",
       "    <tr>\n",
       "      <th>0</th>\n",
       "      <td>26604-8891d2f5-230725130919</td>\n",
       "      <td>0</td>\n",
       "      <td>nose</td>\n",
       "      <td>0.553670</td>\n",
       "      <td>0.450553</td>\n",
       "      <td>-0.102320</td>\n",
       "      <td>0.999999</td>\n",
       "    </tr>\n",
       "    <tr>\n",
       "      <th>1</th>\n",
       "      <td>26604-8891d2f5-230725130919</td>\n",
       "      <td>0</td>\n",
       "      <td>left_eye_inner</td>\n",
       "      <td>0.554441</td>\n",
       "      <td>0.443597</td>\n",
       "      <td>-0.083169</td>\n",
       "      <td>0.999999</td>\n",
       "    </tr>\n",
       "    <tr>\n",
       "      <th>2</th>\n",
       "      <td>26604-8891d2f5-230725130919</td>\n",
       "      <td>0</td>\n",
       "      <td>left_eye</td>\n",
       "      <td>0.554895</td>\n",
       "      <td>0.445806</td>\n",
       "      <td>-0.083246</td>\n",
       "      <td>0.999998</td>\n",
       "    </tr>\n",
       "    <tr>\n",
       "      <th>3</th>\n",
       "      <td>26604-8891d2f5-230725130919</td>\n",
       "      <td>0</td>\n",
       "      <td>left_eye_outer</td>\n",
       "      <td>0.555389</td>\n",
       "      <td>0.448556</td>\n",
       "      <td>-0.083196</td>\n",
       "      <td>0.999998</td>\n",
       "    </tr>\n",
       "    <tr>\n",
       "      <th>4</th>\n",
       "      <td>26604-8891d2f5-230725130919</td>\n",
       "      <td>0</td>\n",
       "      <td>right_eye_inner</td>\n",
       "      <td>0.550759</td>\n",
       "      <td>0.438195</td>\n",
       "      <td>-0.090858</td>\n",
       "      <td>1.000000</td>\n",
       "    </tr>\n",
       "  </tbody>\n",
       "</table>\n",
       "</div>"
      ],
      "text/plain": [
       "                     file_name  frame         landmark         x         y  \\\n",
       "0  26604-8891d2f5-230725130919      0             nose  0.553670  0.450553   \n",
       "1  26604-8891d2f5-230725130919      0   left_eye_inner  0.554441  0.443597   \n",
       "2  26604-8891d2f5-230725130919      0         left_eye  0.554895  0.445806   \n",
       "3  26604-8891d2f5-230725130919      0   left_eye_outer  0.555389  0.448556   \n",
       "4  26604-8891d2f5-230725130919      0  right_eye_inner  0.550759  0.438195   \n",
       "\n",
       "          z  visibility  \n",
       "0 -0.102320    0.999999  \n",
       "1 -0.083169    0.999999  \n",
       "2 -0.083246    0.999998  \n",
       "3 -0.083196    0.999998  \n",
       "4 -0.090858    1.000000  "
      ]
     },
     "execution_count": 64,
     "metadata": {},
     "output_type": "execute_result"
    }
   ],
   "source": [
    "df_data.head(5)"
   ]
  },
  {
   "cell_type": "code",
   "execution_count": 65,
   "id": "27b4a9db-f768-4921-8b24-95069c78f8b0",
   "metadata": {},
   "outputs": [
    {
     "data": {
      "text/plain": [
       "356499"
      ]
     },
     "execution_count": 65,
     "metadata": {},
     "output_type": "execute_result"
    }
   ],
   "source": [
    "len(df_data)"
   ]
  },
  {
   "cell_type": "code",
   "execution_count": 136,
   "id": "11020b42-97c5-477c-800e-a15c839548f7",
   "metadata": {},
   "outputs": [],
   "source": [
    "def _normalized_to_pixel_coordinates(\n",
    "    normalized_x: float, normalized_y: float, \n",
    "    image_width: int, image_height: int) -> Union[None, Tuple[int, int]]:\n",
    "    \"\"\"Converts normalized value pair to pixel coordinates.\"\"\"\n",
    "\n",
    "    # Checks if the float value is between 0 and 1.\n",
    "    def is_valid_normalized_value(value: float) -> bool:\n",
    "        return (value > 0 or math.isclose(0, value)) and (value < 1 or math.isclose(1, value))\n",
    "    \n",
    "    if not (is_valid_normalized_value(normalized_x) and\n",
    "          is_valid_normalized_value(normalized_y)):\n",
    "        # TODO: Draw coordinates even if it's outside of the image bounds.\n",
    "        return None\n",
    "\n",
    "    x_px = min(math.floor(normalized_x * image_width), image_width - 1)\n",
    "    y_px = min(math.floor(normalized_y * image_height), image_height - 1)\n",
    "    return x_px, y_px"
   ]
  },
  {
   "cell_type": "code",
   "execution_count": null,
   "id": "59868c51-de69-4777-8487-83c03d9fe271",
   "metadata": {},
   "outputs": [],
   "source": []
  },
  {
   "cell_type": "code",
   "execution_count": null,
   "id": "bc3da612-365e-4acd-8bf5-6921b4e2f87d",
   "metadata": {},
   "outputs": [],
   "source": []
  },
  {
   "cell_type": "code",
   "execution_count": null,
   "id": "a4a1a519-9316-4fd3-a06e-e7975ace7113",
   "metadata": {},
   "outputs": [],
   "source": []
  },
  {
   "cell_type": "code",
   "execution_count": 66,
   "id": "63453b84-80af-4de7-b710-4df9916f4c03",
   "metadata": {},
   "outputs": [
    {
     "data": {
      "text/plain": [
       "array(['nose', 'left_eye_inner', 'left_eye', 'left_eye_outer',\n",
       "       'right_eye_inner', 'right_eye', 'right_eye_outer', 'left_ear',\n",
       "       'right_ear', 'mouth_left', 'mouth_right', 'left_shoulder',\n",
       "       'right_shoulder', 'left_elbow', 'right_elbow', 'left_wrist',\n",
       "       'right_wrist', 'left_pinky', 'right_pinky', 'left_index',\n",
       "       'right_index', 'left_thumb', 'right_thumb', 'left_hip',\n",
       "       'right_hip', 'left_knee', 'right_knee', 'left_ankle',\n",
       "       'right_ankle', 'left_heel', 'right_heel', 'left_foot_index',\n",
       "       'right_foot_index'], dtype=object)"
      ]
     },
     "execution_count": 66,
     "metadata": {},
     "output_type": "execute_result"
    }
   ],
   "source": [
    "df_data['landmark'].unique()"
   ]
  },
  {
   "cell_type": "code",
   "execution_count": 121,
   "id": "cd3e5ce6-cf30-4255-bfe0-b975c9c56015",
   "metadata": {},
   "outputs": [],
   "source": [
    "joints2keep = ['nose', \n",
    "               'left_eye', 'right_eye', \n",
    "               # 'left_ear', 'right_ear', \n",
    "               # 'mouth_left', 'mouth_right', \n",
    "               'left_shoulder', 'right_shoulder', \n",
    "               'left_elbow', 'right_elbow', \n",
    "               'left_wrist', 'right_wrist', \n",
    "               'left_hip', 'right_hip', \n",
    "               'left_knee', 'right_knee', \n",
    "               'left_ankle', 'right_ankle', \n",
    "               # 'left_heel', 'right_heel'\n",
    "]"
   ]
  },
  {
   "cell_type": "code",
   "execution_count": 122,
   "id": "a3dbe08b-7f9f-4302-a7e2-a850e889afbd",
   "metadata": {},
   "outputs": [
    {
     "data": {
      "text/plain": [
       "15"
      ]
     },
     "execution_count": 122,
     "metadata": {},
     "output_type": "execute_result"
    }
   ],
   "source": [
    "len(joints2keep)"
   ]
  },
  {
   "cell_type": "code",
   "execution_count": 123,
   "id": "f6efb347-e40f-496d-8e53-0a2f0f65a768",
   "metadata": {},
   "outputs": [
    {
     "name": "stderr",
     "output_type": "stream",
     "text": [
      "356499it [00:03, 90500.81it/s] \n"
     ]
    }
   ],
   "source": [
    "rows = []\n",
    "for _, row in tqdm( df_data.iterrows() ):\n",
    "    if row['landmark'] in joints2keep:\n",
    "        rows.append(row)"
   ]
  },
  {
   "cell_type": "code",
   "execution_count": 124,
   "id": "e5696e87-c59c-4b88-9ada-a2a0831e3520",
   "metadata": {},
   "outputs": [
    {
     "data": {
      "text/plain": [
       "162045"
      ]
     },
     "execution_count": 124,
     "metadata": {},
     "output_type": "execute_result"
    }
   ],
   "source": [
    "len(rows)"
   ]
  },
  {
   "cell_type": "code",
   "execution_count": 125,
   "id": "fa99e500-8b08-403c-9930-69873d9b71d1",
   "metadata": {},
   "outputs": [],
   "source": [
    "df_data_lessJoints = pd.DataFrame(rows)"
   ]
  },
  {
   "cell_type": "code",
   "execution_count": 126,
   "id": "5d1902b2-74a4-4158-bac0-cc366082c91b",
   "metadata": {},
   "outputs": [
    {
     "data": {
      "text/html": [
       "<div>\n",
       "<style scoped>\n",
       "    .dataframe tbody tr th:only-of-type {\n",
       "        vertical-align: middle;\n",
       "    }\n",
       "\n",
       "    .dataframe tbody tr th {\n",
       "        vertical-align: top;\n",
       "    }\n",
       "\n",
       "    .dataframe thead th {\n",
       "        text-align: right;\n",
       "    }\n",
       "</style>\n",
       "<table border=\"1\" class=\"dataframe\">\n",
       "  <thead>\n",
       "    <tr style=\"text-align: right;\">\n",
       "      <th></th>\n",
       "      <th>file_name</th>\n",
       "      <th>frame</th>\n",
       "      <th>landmark</th>\n",
       "      <th>x</th>\n",
       "      <th>y</th>\n",
       "      <th>z</th>\n",
       "      <th>visibility</th>\n",
       "    </tr>\n",
       "  </thead>\n",
       "  <tbody>\n",
       "    <tr>\n",
       "      <th>0</th>\n",
       "      <td>26604-8891d2f5-230725130919</td>\n",
       "      <td>0</td>\n",
       "      <td>nose</td>\n",
       "      <td>0.553670</td>\n",
       "      <td>0.450553</td>\n",
       "      <td>-0.102320</td>\n",
       "      <td>0.999999</td>\n",
       "    </tr>\n",
       "    <tr>\n",
       "      <th>2</th>\n",
       "      <td>26604-8891d2f5-230725130919</td>\n",
       "      <td>0</td>\n",
       "      <td>left_eye</td>\n",
       "      <td>0.554895</td>\n",
       "      <td>0.445806</td>\n",
       "      <td>-0.083246</td>\n",
       "      <td>0.999998</td>\n",
       "    </tr>\n",
       "    <tr>\n",
       "      <th>5</th>\n",
       "      <td>26604-8891d2f5-230725130919</td>\n",
       "      <td>0</td>\n",
       "      <td>right_eye</td>\n",
       "      <td>0.548106</td>\n",
       "      <td>0.435711</td>\n",
       "      <td>-0.090975</td>\n",
       "      <td>1.000000</td>\n",
       "    </tr>\n",
       "    <tr>\n",
       "      <th>11</th>\n",
       "      <td>26604-8891d2f5-230725130919</td>\n",
       "      <td>0</td>\n",
       "      <td>left_shoulder</td>\n",
       "      <td>0.543897</td>\n",
       "      <td>0.496113</td>\n",
       "      <td>0.019915</td>\n",
       "      <td>0.999963</td>\n",
       "    </tr>\n",
       "    <tr>\n",
       "      <th>12</th>\n",
       "      <td>26604-8891d2f5-230725130919</td>\n",
       "      <td>0</td>\n",
       "      <td>right_shoulder</td>\n",
       "      <td>0.506510</td>\n",
       "      <td>0.455413</td>\n",
       "      <td>-0.012577</td>\n",
       "      <td>0.999971</td>\n",
       "    </tr>\n",
       "    <tr>\n",
       "      <th>...</th>\n",
       "      <td>...</td>\n",
       "      <td>...</td>\n",
       "      <td>...</td>\n",
       "      <td>...</td>\n",
       "      <td>...</td>\n",
       "      <td>...</td>\n",
       "      <td>...</td>\n",
       "    </tr>\n",
       "    <tr>\n",
       "      <th>356490</th>\n",
       "      <td>26604-8891d2f5-230725130919</td>\n",
       "      <td>10802</td>\n",
       "      <td>right_hip</td>\n",
       "      <td>0.547771</td>\n",
       "      <td>0.568913</td>\n",
       "      <td>-0.055082</td>\n",
       "      <td>0.999981</td>\n",
       "    </tr>\n",
       "    <tr>\n",
       "      <th>356491</th>\n",
       "      <td>26604-8891d2f5-230725130919</td>\n",
       "      <td>10802</td>\n",
       "      <td>left_knee</td>\n",
       "      <td>0.584010</td>\n",
       "      <td>0.603839</td>\n",
       "      <td>0.074133</td>\n",
       "      <td>0.573400</td>\n",
       "    </tr>\n",
       "    <tr>\n",
       "      <th>356492</th>\n",
       "      <td>26604-8891d2f5-230725130919</td>\n",
       "      <td>10802</td>\n",
       "      <td>right_knee</td>\n",
       "      <td>0.577592</td>\n",
       "      <td>0.609348</td>\n",
       "      <td>-0.168968</td>\n",
       "      <td>0.996132</td>\n",
       "    </tr>\n",
       "    <tr>\n",
       "      <th>356493</th>\n",
       "      <td>26604-8891d2f5-230725130919</td>\n",
       "      <td>10802</td>\n",
       "      <td>left_ankle</td>\n",
       "      <td>0.591680</td>\n",
       "      <td>0.674116</td>\n",
       "      <td>0.119215</td>\n",
       "      <td>0.779318</td>\n",
       "    </tr>\n",
       "    <tr>\n",
       "      <th>356494</th>\n",
       "      <td>26604-8891d2f5-230725130919</td>\n",
       "      <td>10802</td>\n",
       "      <td>right_ankle</td>\n",
       "      <td>0.574845</td>\n",
       "      <td>0.679303</td>\n",
       "      <td>-0.107557</td>\n",
       "      <td>0.977246</td>\n",
       "    </tr>\n",
       "  </tbody>\n",
       "</table>\n",
       "<p>162045 rows × 7 columns</p>\n",
       "</div>"
      ],
      "text/plain": [
       "                          file_name  frame        landmark         x  \\\n",
       "0       26604-8891d2f5-230725130919      0            nose  0.553670   \n",
       "2       26604-8891d2f5-230725130919      0        left_eye  0.554895   \n",
       "5       26604-8891d2f5-230725130919      0       right_eye  0.548106   \n",
       "11      26604-8891d2f5-230725130919      0   left_shoulder  0.543897   \n",
       "12      26604-8891d2f5-230725130919      0  right_shoulder  0.506510   \n",
       "...                             ...    ...             ...       ...   \n",
       "356490  26604-8891d2f5-230725130919  10802       right_hip  0.547771   \n",
       "356491  26604-8891d2f5-230725130919  10802       left_knee  0.584010   \n",
       "356492  26604-8891d2f5-230725130919  10802      right_knee  0.577592   \n",
       "356493  26604-8891d2f5-230725130919  10802      left_ankle  0.591680   \n",
       "356494  26604-8891d2f5-230725130919  10802     right_ankle  0.574845   \n",
       "\n",
       "               y         z  visibility  \n",
       "0       0.450553 -0.102320    0.999999  \n",
       "2       0.445806 -0.083246    0.999998  \n",
       "5       0.435711 -0.090975    1.000000  \n",
       "11      0.496113  0.019915    0.999963  \n",
       "12      0.455413 -0.012577    0.999971  \n",
       "...          ...       ...         ...  \n",
       "356490  0.568913 -0.055082    0.999981  \n",
       "356491  0.603839  0.074133    0.573400  \n",
       "356492  0.609348 -0.168968    0.996132  \n",
       "356493  0.674116  0.119215    0.779318  \n",
       "356494  0.679303 -0.107557    0.977246  \n",
       "\n",
       "[162045 rows x 7 columns]"
      ]
     },
     "execution_count": 126,
     "metadata": {},
     "output_type": "execute_result"
    }
   ],
   "source": [
    "df_data_lessJoints"
   ]
  },
  {
   "cell_type": "code",
   "execution_count": 127,
   "id": "59b52e72-7b31-4a8c-a454-93860bcfd16a",
   "metadata": {},
   "outputs": [],
   "source": [
    "# df_data_lessJoints.columns"
   ]
  },
  {
   "cell_type": "code",
   "execution_count": 128,
   "id": "99c75125-94ab-4f9e-93c4-442aa5f772be",
   "metadata": {},
   "outputs": [],
   "source": [
    "reduce_dim = True"
   ]
  },
  {
   "cell_type": "code",
   "execution_count": 129,
   "id": "d9166450-2a95-423e-85d3-b8b85eccf6b5",
   "metadata": {},
   "outputs": [],
   "source": [
    "if reduce_dim:\n",
    "    df_data_lessJoints_rightDim = df_data_lessJoints[['file_name', 'frame', 'landmark', 'x', 'y', 'visibility']]"
   ]
  },
  {
   "cell_type": "code",
   "execution_count": 130,
   "id": "42a078b5-f6cb-48ba-9fda-16aca8d7bb2b",
   "metadata": {},
   "outputs": [
    {
     "data": {
      "text/html": [
       "<div>\n",
       "<style scoped>\n",
       "    .dataframe tbody tr th:only-of-type {\n",
       "        vertical-align: middle;\n",
       "    }\n",
       "\n",
       "    .dataframe tbody tr th {\n",
       "        vertical-align: top;\n",
       "    }\n",
       "\n",
       "    .dataframe thead th {\n",
       "        text-align: right;\n",
       "    }\n",
       "</style>\n",
       "<table border=\"1\" class=\"dataframe\">\n",
       "  <thead>\n",
       "    <tr style=\"text-align: right;\">\n",
       "      <th></th>\n",
       "      <th>file_name</th>\n",
       "      <th>frame</th>\n",
       "      <th>landmark</th>\n",
       "      <th>x</th>\n",
       "      <th>y</th>\n",
       "      <th>visibility</th>\n",
       "    </tr>\n",
       "  </thead>\n",
       "  <tbody>\n",
       "    <tr>\n",
       "      <th>0</th>\n",
       "      <td>26604-8891d2f5-230725130919</td>\n",
       "      <td>0</td>\n",
       "      <td>nose</td>\n",
       "      <td>0.553670</td>\n",
       "      <td>0.450553</td>\n",
       "      <td>0.999999</td>\n",
       "    </tr>\n",
       "    <tr>\n",
       "      <th>2</th>\n",
       "      <td>26604-8891d2f5-230725130919</td>\n",
       "      <td>0</td>\n",
       "      <td>left_eye</td>\n",
       "      <td>0.554895</td>\n",
       "      <td>0.445806</td>\n",
       "      <td>0.999998</td>\n",
       "    </tr>\n",
       "    <tr>\n",
       "      <th>5</th>\n",
       "      <td>26604-8891d2f5-230725130919</td>\n",
       "      <td>0</td>\n",
       "      <td>right_eye</td>\n",
       "      <td>0.548106</td>\n",
       "      <td>0.435711</td>\n",
       "      <td>1.000000</td>\n",
       "    </tr>\n",
       "    <tr>\n",
       "      <th>11</th>\n",
       "      <td>26604-8891d2f5-230725130919</td>\n",
       "      <td>0</td>\n",
       "      <td>left_shoulder</td>\n",
       "      <td>0.543897</td>\n",
       "      <td>0.496113</td>\n",
       "      <td>0.999963</td>\n",
       "    </tr>\n",
       "    <tr>\n",
       "      <th>12</th>\n",
       "      <td>26604-8891d2f5-230725130919</td>\n",
       "      <td>0</td>\n",
       "      <td>right_shoulder</td>\n",
       "      <td>0.506510</td>\n",
       "      <td>0.455413</td>\n",
       "      <td>0.999971</td>\n",
       "    </tr>\n",
       "    <tr>\n",
       "      <th>...</th>\n",
       "      <td>...</td>\n",
       "      <td>...</td>\n",
       "      <td>...</td>\n",
       "      <td>...</td>\n",
       "      <td>...</td>\n",
       "      <td>...</td>\n",
       "    </tr>\n",
       "    <tr>\n",
       "      <th>356490</th>\n",
       "      <td>26604-8891d2f5-230725130919</td>\n",
       "      <td>10802</td>\n",
       "      <td>right_hip</td>\n",
       "      <td>0.547771</td>\n",
       "      <td>0.568913</td>\n",
       "      <td>0.999981</td>\n",
       "    </tr>\n",
       "    <tr>\n",
       "      <th>356491</th>\n",
       "      <td>26604-8891d2f5-230725130919</td>\n",
       "      <td>10802</td>\n",
       "      <td>left_knee</td>\n",
       "      <td>0.584010</td>\n",
       "      <td>0.603839</td>\n",
       "      <td>0.573400</td>\n",
       "    </tr>\n",
       "    <tr>\n",
       "      <th>356492</th>\n",
       "      <td>26604-8891d2f5-230725130919</td>\n",
       "      <td>10802</td>\n",
       "      <td>right_knee</td>\n",
       "      <td>0.577592</td>\n",
       "      <td>0.609348</td>\n",
       "      <td>0.996132</td>\n",
       "    </tr>\n",
       "    <tr>\n",
       "      <th>356493</th>\n",
       "      <td>26604-8891d2f5-230725130919</td>\n",
       "      <td>10802</td>\n",
       "      <td>left_ankle</td>\n",
       "      <td>0.591680</td>\n",
       "      <td>0.674116</td>\n",
       "      <td>0.779318</td>\n",
       "    </tr>\n",
       "    <tr>\n",
       "      <th>356494</th>\n",
       "      <td>26604-8891d2f5-230725130919</td>\n",
       "      <td>10802</td>\n",
       "      <td>right_ankle</td>\n",
       "      <td>0.574845</td>\n",
       "      <td>0.679303</td>\n",
       "      <td>0.977246</td>\n",
       "    </tr>\n",
       "  </tbody>\n",
       "</table>\n",
       "<p>162045 rows × 6 columns</p>\n",
       "</div>"
      ],
      "text/plain": [
       "                          file_name  frame        landmark         x  \\\n",
       "0       26604-8891d2f5-230725130919      0            nose  0.553670   \n",
       "2       26604-8891d2f5-230725130919      0        left_eye  0.554895   \n",
       "5       26604-8891d2f5-230725130919      0       right_eye  0.548106   \n",
       "11      26604-8891d2f5-230725130919      0   left_shoulder  0.543897   \n",
       "12      26604-8891d2f5-230725130919      0  right_shoulder  0.506510   \n",
       "...                             ...    ...             ...       ...   \n",
       "356490  26604-8891d2f5-230725130919  10802       right_hip  0.547771   \n",
       "356491  26604-8891d2f5-230725130919  10802       left_knee  0.584010   \n",
       "356492  26604-8891d2f5-230725130919  10802      right_knee  0.577592   \n",
       "356493  26604-8891d2f5-230725130919  10802      left_ankle  0.591680   \n",
       "356494  26604-8891d2f5-230725130919  10802     right_ankle  0.574845   \n",
       "\n",
       "               y  visibility  \n",
       "0       0.450553    0.999999  \n",
       "2       0.445806    0.999998  \n",
       "5       0.435711    1.000000  \n",
       "11      0.496113    0.999963  \n",
       "12      0.455413    0.999971  \n",
       "...          ...         ...  \n",
       "356490  0.568913    0.999981  \n",
       "356491  0.603839    0.573400  \n",
       "356492  0.609348    0.996132  \n",
       "356493  0.674116    0.779318  \n",
       "356494  0.679303    0.977246  \n",
       "\n",
       "[162045 rows x 6 columns]"
      ]
     },
     "execution_count": 130,
     "metadata": {},
     "output_type": "execute_result"
    }
   ],
   "source": [
    "df_data_lessJoints_rightDim"
   ]
  },
  {
   "cell_type": "code",
   "execution_count": 131,
   "id": "4ed1bb91-bb40-420a-a8aa-9adfdae9e121",
   "metadata": {},
   "outputs": [
    {
     "name": "stdout",
     "output_type": "stream",
     "text": [
      "nose 10803\n",
      "left_eye 10803\n",
      "right_eye 10803\n",
      "left_shoulder 10803\n",
      "right_shoulder 10803\n",
      "left_elbow 10803\n",
      "right_elbow 10803\n",
      "left_wrist 10803\n",
      "right_wrist 10803\n",
      "left_hip 10803\n",
      "right_hip 10803\n",
      "left_knee 10803\n",
      "right_knee 10803\n",
      "left_ankle 10803\n",
      "right_ankle 10803\n"
     ]
    }
   ],
   "source": [
    "lm2measures = {}\n",
    "for lm in df_data_lessJoints_rightDim['landmark'].unique():\n",
    "\n",
    "# for fnum, row in df_data_lessJoints_rightDim['frame'].unique():\n",
    "\n",
    "    df_tmp = df_data_lessJoints_rightDim[df_data_lessJoints_rightDim['landmark']==lm]\n",
    "\n",
    "    print(lm, len(df_tmp))\n",
    "\n",
    "    lm2measures[lm] = []\n",
    "    for _, row in df_tmp.iterrows():\n",
    "        lm2measures[lm].append( [ int(640 * row['x']), int(row['y' ] * 480) ] )\n",
    "        \n",
    "    # fnum2stats[fnum] = {\n",
    "        \n",
    "    #     'arr_s': arr_s ,\n",
    "    #     'arr_mask': arr_mask ,\n",
    "        \n",
    "    #     'tblr': [ t, b, l, r ] ,\n",
    "    #     'tblr_pad': [ t_pad, b_pad, l_pad, r_pad ] ,\n",
    "        \n",
    "    #     't_body': t_body ,\n",
    "\n",
    "    #     'CoP_entire': [ CoP_x_entire, CoP_y_entire ] ,\n",
    "    #     'CoP_entire_ani': [ [ CoP_x_entire ], [ CoP_y_entire ] ] ,\n",
    "\n",
    "    #     'CoP_head': [ CoP_x_head, t_pad + CoP_y_head ] ,\n",
    "    #     'CoP_head_ani': [ [ CoP_x_head ], [ t_pad + CoP_y_head ] ] ,\n",
    "        \n",
    "    #     'CoP_body': [ CoP_x_body, t_body + CoP_y_body ] ,\n",
    "    #     'CoP_body_ani': [ [ CoP_x_body ], [ t_body + CoP_y_body ] ] ,\n",
    "\n",
    "    #     'col_index': col_index\n",
    "        \n",
    "    # }"
   ]
  },
  {
   "cell_type": "code",
   "execution_count": 132,
   "id": "b27a42ac-35fc-44d4-9fda-1229447b78e3",
   "metadata": {},
   "outputs": [],
   "source": [
    "# lm2measures['nose']"
   ]
  },
  {
   "cell_type": "code",
   "execution_count": null,
   "id": "a12e59bd-666b-4514-a856-c581cbab6885",
   "metadata": {},
   "outputs": [],
   "source": []
  },
  {
   "cell_type": "code",
   "execution_count": 133,
   "id": "7814d6cb-f03d-4603-99f7-2d296ae8517e",
   "metadata": {},
   "outputs": [],
   "source": [
    "# lm2measures['nose']"
   ]
  },
  {
   "cell_type": "code",
   "execution_count": 134,
   "id": "be513d51-e68e-47f4-b147-6a3f00376498",
   "metadata": {},
   "outputs": [],
   "source": [
    "# fig, ax = plt.subplots(nrows=1, ncols=1, figsize=(16, 12))\n",
    "\n",
    "# plt.xlim(0,640)\n",
    "# plt.ylim(0,480)\n",
    "\n",
    "# plt.gca().invert_yaxis()\n",
    "\n",
    "# points_lm = []\n",
    "# for lm in lm2measures:\n",
    "#     point_lm, = ax.plot(\n",
    "#         lm2measures[lm][0][0],\n",
    "#         lm2measures[lm][0][1],\n",
    "#         c='red',\n",
    "#         marker = '.',\n",
    "#         markersize = 15\n",
    "#     )\n",
    "\n",
    "# # for i, lm in enumerate(lm2measures):\n",
    "# #     # print(i)\n",
    "# #     # ax.annotate(txt, (x[i], y[i]))\n",
    "# #     ax.annotate(lm, (lm2measures[lm][0][0], lm2measures[lm][0][1]))\n",
    "\n",
    "\n",
    "# plt.show()"
   ]
  },
  {
   "cell_type": "code",
   "execution_count": null,
   "id": "e1990223-2f36-40f0-871c-ad7125e8b813",
   "metadata": {},
   "outputs": [],
   "source": []
  },
  {
   "cell_type": "code",
   "execution_count": null,
   "id": "69b45757-b9ff-48e6-9309-70e5d9076331",
   "metadata": {},
   "outputs": [],
   "source": []
  },
  {
   "cell_type": "code",
   "execution_count": 135,
   "id": "699598a0-cf36-47f8-8660-91b7bef4e0d3",
   "metadata": {},
   "outputs": [
    {
     "name": "stderr",
     "output_type": "stream",
     "text": [
      "/var/folders/m9/wrbj9lr10ynbn58cq8f6pmbw0000gp/T/ipykernel_52189/1263491096.py:84: MatplotlibDeprecationWarning: Setting data with a non sequence type is deprecated since 3.7 and will be remove two minor releases later\n",
      "  lm2point_ax[lm].set_data( [ lm2measures[lm][fnum][0], lm2measures[lm][fnum][1] ] )\n",
      "/var/folders/m9/wrbj9lr10ynbn58cq8f6pmbw0000gp/T/ipykernel_52189/1263491096.py:84: MatplotlibDeprecationWarning: Setting data with a non sequence type is deprecated since 3.7 and will be remove two minor releases later\n",
      "  lm2point_ax[lm].set_data( [ lm2measures[lm][fnum][0], lm2measures[lm][fnum][1] ] )\n"
     ]
    },
    {
     "name": "stdout",
     "output_type": "stream",
     "text": [
      "Saving to ./test2.mp4...\n",
      "Done.\n"
     ]
    },
    {
     "data": {
      "image/png": "[encoded data removed]",
      "text/plain": [
       "<Figure size 1600x1200 with 1 Axes>"
      ]
     },
     "metadata": {},
     "output_type": "display_data"
    }
   ],
   "source": [
    "fig, ax = plt.subplots(nrows=1, ncols=1, figsize=(16, 12))\n",
    "\n",
    "plt.xlim(0,640)\n",
    "plt.ylim(0,480)\n",
    "\n",
    "plt.gca().invert_yaxis()\n",
    "\n",
    "# plt.xticks([i for i in range(32)], [''] * 32)\n",
    "# plt.yticks([i for i in range(32)], [''] * 32)\n",
    "# plt.xticks([i for i in range(32)])\n",
    "# plt.yticks([i for i in range(32)])\n",
    "# plt.xticks([])\n",
    "# plt.yticks([])\n",
    "\n",
    "# plt.grid()\n",
    "# plt.gca().invert_yaxis()\n",
    "\n",
    "# ax.xaxis.label.set_color('white')\n",
    "# ax.yaxis.label.set_color('white') \n",
    "# ax.tick_params(axis='x', colors='white')\n",
    "# ax.tick_params(axis='y', colors='white')\n",
    "# ax.spines[['top','left','bottom','right']].set_color('white')\n",
    "\n",
    "# ax.spines[['top','left','bottom','right']].set_linewidth(3)\n",
    "\n",
    "# ax.set_facecolor(colors[fnum2stats[0]['col_index']][0])\n",
    "\n",
    "# pressure_ax = ax.scatter(\n",
    "#     x_flat,\n",
    "#     y_flat,\n",
    "#     s=fnum2stats[0]['arr_s'].flatten(),\n",
    "#     c=colors[fnum2stats[0]['col_index']][1],\n",
    "#     marker='o',\n",
    "#     # alpha=0.5\n",
    "# )\n",
    "\n",
    "# CoP_body_ax, = ax.plot(\n",
    "#     fnum2stats[0]['CoP_entire_ani'],\n",
    "#     c=colors[fnum2stats[0]['col_index']][1],\n",
    "#     marker = '.',\n",
    "#     markersize = 25\n",
    "# )\n",
    "\n",
    "lm2point_ax = {}\n",
    "for lm in lm2measures:\n",
    "    point_ax, = ax.plot(\n",
    "        lm2measures[lm][0][0],\n",
    "        lm2measures[lm][0][1],\n",
    "        c='red',\n",
    "        marker = '.',\n",
    "        markersize = 15\n",
    "    )\n",
    "    lm2point_ax[lm] = point_ax\n",
    "\n",
    "\n",
    "# if draw_other_points:\n",
    "#     t,b,l,r = fnum2stats[0]['tblr_pad']\n",
    "#     t_body = fnum2stats[0]['t_body']\n",
    "#     points = [[l,t_body], [l,b], [r,t_body], [r,b]]\n",
    "#     CoP_body_xy = fnum2stats[0]['CoP_body']\n",
    "#     points_ax, lines_ax = [], []\n",
    "#     for point in points:\n",
    "#         point_ax, = ax.plot( \n",
    "#             point[0], point[1], \n",
    "#             c='green',\n",
    "#             marker='x',\n",
    "#             markersize=25\n",
    "#         )\n",
    "#         points_ax.append(point_ax)\n",
    "\n",
    "# coords_list = get_coords_for_5_quads( fnum2stats[0]['CoP_body'] )\n",
    "# for coords in coords_list:\n",
    "#     rect_tmp = patches.Rectangle(\n",
    "#         (coords[0], coords[1]), 3, 3, \n",
    "#         linewidth=1, edgecolor='r', facecolor='none'\n",
    "#     )\n",
    "#     ax.add_patch(rect_tmp)\n",
    "\n",
    "# Function to update the scatter plot\n",
    "def update(fnum):\n",
    "\n",
    "    # points_lm = []\n",
    "    for lm in lm2point_ax:\n",
    "        lm2point_ax[lm].set_data( [ lm2measures[lm][fnum][0], lm2measures[lm][fnum][1] ] )\n",
    "\n",
    "        # point_lm, = ax.plot(\n",
    "\n",
    "        #     c='red',\n",
    "        #     marker = '.',\n",
    "        #     markersize = 15\n",
    "        # )\n",
    "    \n",
    "    # c_mat, c_points = colors[fnum2stats[fnum]['col_index']][:]\n",
    "\n",
    "    # ax.set_facecolor( c_mat )\n",
    "    \n",
    "    # pressure_ax.set_sizes( fnum2stats[fnum]['arr_s'].flatten() )\n",
    "    # pressure_ax.set_color( c_points )\n",
    "    \n",
    "    # CoP_body_ax.set_data( fnum2stats[fnum]['CoP_entire_ani'][:] )\n",
    "    # CoP_body_ax.set_color( c_points )\n",
    "\n",
    "    # if draw_other_points:\n",
    "    \n",
    "    #     t,b,l,r = fnum2stats[fnum]['tblr_pad']\n",
    "    #     t_body = fnum2stats[fnum]['t_body']\n",
    "    #     points_new = [[l,t_body], [l,b], [r,t_body], [r,b]]\n",
    "    #     for point_new, point_ax in zip(points_new, points_ax):\n",
    "    #         point_ax.set_data( [point_new[0]], [point_new[1]] )\n",
    "\n",
    "    # CoP_body_xy = fnum2stats[fnum]['CoP_body']\n",
    "\n",
    "    # rect.set_xy( (i2stats[i]['xywh'][0], \n",
    "    #               i2stats[i]['xywh'][1]) )\n",
    "    # rect.set_width( i2stats[i]['xywh'][2] )\n",
    "    # rect.set_height( i2stats[i]['xywh'][3] )\n",
    "\n",
    "    # lr_line.set_xdata( i2stats[i]['CoP'][1] )\n",
    "        \n",
    "    return list(lm2point_ax.values()) # pressure_ax, # CoP_body_ax, # rect,\n",
    "\n",
    "animation = ani.FuncAnimation(fig, update,\n",
    "                              frames=[x for x in range(0,len(lm2measures['nose']))], \n",
    "                              interval=30, \n",
    "                              blit=True)\n",
    "\n",
    "# Save the animation\n",
    "fname_out = './test2.mp4'\n",
    "print('Saving to {}...'.format(fname_out))\n",
    "animation.save(fname_out)\n",
    "print('Done.')"
   ]
  },
  {
   "cell_type": "code",
   "execution_count": null,
   "id": "a4187573-0ac0-4853-a48b-57e67bd6b786",
   "metadata": {},
   "outputs": [],
   "source": []
  },
  {
   "cell_type": "code",
   "execution_count": null,
   "id": "3eb5e98d-3250-4550-8557-f60f28f713f1",
   "metadata": {},
   "outputs": [],
   "source": []
  },
  {
   "cell_type": "code",
   "execution_count": null,
   "id": "5ed3bea9-91e5-4f1e-95ed-2ffbe9cbfa54",
   "metadata": {},
   "outputs": [],
   "source": [
    "m_side_of_body = {}\n",
    "for lm in df_data['landmark'].unique():\n",
    "    if 'left' in lm:\n",
    "        m_side_of_body[lm] = 'left'\n",
    "    elif 'right' in lm:\n",
    "        m_side_of_body[lm] = 'right'\n",
    "    else:\n",
    "        m_side_of_body[lm] = 'center'"
   ]
  },
  {
   "cell_type": "code",
   "execution_count": null,
   "id": "fc59b4a7-1d31-4b65-9c22-3a99bf935994",
   "metadata": {},
   "outputs": [],
   "source": [
    "# m_side_of_body"
   ]
  },
  {
   "cell_type": "code",
   "execution_count": null,
   "id": "a58ec4f1-f38b-4184-9d68-8be19367ae25",
   "metadata": {},
   "outputs": [],
   "source": [
    "m_body_or_face = {}\n",
    "for lm in df_data[df_data['frame']==0]['landmark'].values[:11]:\n",
    "    m_body_or_face[lm] = 'face'\n",
    "for lm in df_data[df_data['frame']==0]['landmark'].values[11:]:\n",
    "    m_body_or_face[lm] = 'body'"
   ]
  },
  {
   "cell_type": "code",
   "execution_count": null,
   "id": "25564bfc-9b2c-435c-bb92-a590dd78fcd2",
   "metadata": {},
   "outputs": [],
   "source": [
    "# m_body_or_face"
   ]
  },
  {
   "cell_type": "code",
   "execution_count": null,
   "id": "625041b7-aecc-4b34-b45c-08049aa4a138",
   "metadata": {},
   "outputs": [],
   "source": [
    "m_above_the_hip = {}\n",
    "for lm in df_data[df_data['frame']==0]['landmark'].values[:23]:\n",
    "    m_above_the_hip[lm] = True\n",
    "for lm in df_data[df_data['frame']==0]['landmark'].values[23:]:\n",
    "    m_above_the_hip[lm] = False"
   ]
  },
  {
   "cell_type": "code",
   "execution_count": null,
   "id": "a0bdfd8f-460e-4f04-80b2-62d7b46a2d27",
   "metadata": {},
   "outputs": [],
   "source": [
    "# m_above_the_hip"
   ]
  },
  {
   "cell_type": "code",
   "execution_count": null,
   "id": "ac5ca32d-ef7c-43dd-ad06-fd5059e85ffc",
   "metadata": {},
   "outputs": [],
   "source": [
    "main_joints = [\n",
    "    'nose', \n",
    "    'left_shoulder', 'right_shoulder',\n",
    "    'left_elbow', 'right_elbow',\n",
    "    'left_wrist', 'right_wrist',\n",
    "    'left_hip', 'right_hip',\n",
    "    'left_knee', 'right_knee',\n",
    "    'left_ankle', 'right_ankle'\n",
    "]"
   ]
  },
  {
   "cell_type": "code",
   "execution_count": null,
   "id": "bbe31b68-c517-4f7f-a1bf-c29737a3332d",
   "metadata": {},
   "outputs": [],
   "source": [
    "m_main_joint_or_not = { lm: lm in main_joints for lm in df_data['landmark'].unique() }"
   ]
  },
  {
   "cell_type": "code",
   "execution_count": null,
   "id": "09e24bf1-d609-4518-9388-1dd0fab25e4d",
   "metadata": {},
   "outputs": [],
   "source": [
    "# m_main_joint_or_not"
   ]
  },
  {
   "cell_type": "code",
   "execution_count": null,
   "id": "c864ee9f-de0d-45ed-9724-11fdbaddc5f0",
   "metadata": {},
   "outputs": [],
   "source": [
    "df_data['side_of_body']  = [ m_side_of_body[lm] for lm in df_data['landmark'] ]"
   ]
  },
  {
   "cell_type": "code",
   "execution_count": null,
   "id": "bbac5be4-6daa-4f1f-9378-38914b1a8354",
   "metadata": {},
   "outputs": [],
   "source": [
    "df_data['body_or_face']  = [ m_body_or_face[lm] for lm in df_data['landmark'] ]"
   ]
  },
  {
   "cell_type": "code",
   "execution_count": null,
   "id": "b10c64db-51d0-41ff-8df5-a9f423154a5a",
   "metadata": {},
   "outputs": [],
   "source": [
    "df_data['above_the_hip'] = [ m_above_the_hip[lm] for lm in df_data['landmark'] ]"
   ]
  },
  {
   "cell_type": "code",
   "execution_count": null,
   "id": "66b1c2eb-4227-45d9-88a4-c8bcaf44ee54",
   "metadata": {},
   "outputs": [],
   "source": [
    "df_data['main_joint']    = [ m_main_joint_or_not[lm] for lm in df_data['landmark'] ]"
   ]
  },
  {
   "cell_type": "code",
   "execution_count": null,
   "id": "26209a0b-4c3a-43fa-b006-b64f2b7af8ef",
   "metadata": {},
   "outputs": [],
   "source": [
    "df_data.head()"
   ]
  },
  {
   "cell_type": "code",
   "execution_count": null,
   "id": "2b42106b-737f-45cc-9c9b-b324786c2466",
   "metadata": {},
   "outputs": [],
   "source": []
  },
  {
   "cell_type": "code",
   "execution_count": null,
   "id": "d1fa169d-bf93-4e39-a054-92a4fdf5eeee",
   "metadata": {},
   "outputs": [],
   "source": [
    "## FROM DRAWING_UTILS.PY"
   ]
  },
  {
   "cell_type": "code",
   "execution_count": null,
   "id": "d9189187-bef9-4391-92a5-f53fb5c4026f",
   "metadata": {},
   "outputs": [],
   "source": []
  },
  {
   "cell_type": "code",
   "execution_count": null,
   "id": "dc432344-aa3b-45b8-abf4-eef4b54b100a",
   "metadata": {},
   "outputs": [],
   "source": [
    "# lm2distances = {}\n",
    "# for lm in tqdm( df_data['landmark'].unique() ):\n",
    "    \n",
    "#     # print(lm)\n",
    "    \n",
    "#     df_data_tmp = df_data[df_data['landmark']==lm].reset_index()\n",
    "    \n",
    "#     distances = []\n",
    "#     for i, row in df_data_tmp.iloc[1:].iterrows():\n",
    "#         xyz_prev = np.asarray( df_data.iloc[i-1][['x','y','z']].values )\n",
    "#         xyz_curr = np.asarray( row[['x','y','z']].values )\n",
    "#         # print(i, (i-1*33))\n",
    "#         # # print(row)\n",
    "#         # print( xyz_prev, xyz_curr ) \n",
    "#         distances.append(  np.linalg.norm(xyz_prev - xyz_curr) )\n",
    "    \n",
    "#     lm2distances[lm] = distances"
   ]
  },
  {
   "cell_type": "code",
   "execution_count": null,
   "id": "6c160de4-4277-462c-8f8d-6fa8d0775d93",
   "metadata": {},
   "outputs": [],
   "source": []
  },
  {
   "cell_type": "code",
   "execution_count": null,
   "id": "75c0adc7-10ae-41d7-98d4-648de94eac73",
   "metadata": {},
   "outputs": [],
   "source": [
    "lm2distances_stats = {}\n",
    "for lm, distances in lm2distances.items():\n",
    "    s = pd.Series(distances)\n",
    "    # print( lm, s.mean(), s.std() )\n",
    "    lm2distances_stats[lm] = [s.mean(), s.std()]"
   ]
  },
  {
   "cell_type": "code",
   "execution_count": null,
   "id": "73034cea-c16a-4e7c-91db-2aac819f2326",
   "metadata": {},
   "outputs": [],
   "source": []
  },
  {
   "cell_type": "code",
   "execution_count": null,
   "id": "b7d98532-4ad3-4791-aedc-77762f948763",
   "metadata": {},
   "outputs": [],
   "source": [
    "# lm"
   ]
  },
  {
   "cell_type": "code",
   "execution_count": null,
   "id": "38a6f453-1e43-42b3-bbd4-22fdd138edb4",
   "metadata": {},
   "outputs": [],
   "source": [
    "lm2distances_stats['nose']"
   ]
  },
  {
   "cell_type": "code",
   "execution_count": null,
   "id": "4052a8b0-25b5-4e47-81d1-f47b3adf19c5",
   "metadata": {},
   "outputs": [],
   "source": []
  },
  {
   "cell_type": "code",
   "execution_count": null,
   "id": "34cf6877-95e7-44f1-beae-86617eaf101c",
   "metadata": {},
   "outputs": [],
   "source": [
    "df_lm2distances_stats = pd.DataFrame.from_dict(lm2distances_stats).T"
   ]
  },
  {
   "cell_type": "code",
   "execution_count": null,
   "id": "afeabb28-ec7d-4c60-ac6a-33468092ec77",
   "metadata": {},
   "outputs": [],
   "source": [
    "df_lm2distances_stats.columns = ['mean','std']"
   ]
  },
  {
   "cell_type": "code",
   "execution_count": null,
   "id": "1af85809-67e4-4719-b14d-144df78194da",
   "metadata": {},
   "outputs": [],
   "source": [
    "# df_lm2distances_stats.sort_values(by='mean', ascending=False).head()\n",
    "# df_lm2distances_stats.sort_values(by='mean', ascending=True).head()"
   ]
  },
  {
   "cell_type": "code",
   "execution_count": null,
   "id": "75f0ce6f-1225-4788-8cec-d361eb746a43",
   "metadata": {},
   "outputs": [],
   "source": [
    "# df_lm2distances_stats.sort_values(by='std', ascending=False).head()\n",
    "# df_lm2distances_stats.sort_values(by='std', ascending=True).head()"
   ]
  },
  {
   "cell_type": "code",
   "execution_count": null,
   "id": "c014bd1c-4813-479a-a0cc-bb61c9a580fc",
   "metadata": {},
   "outputs": [],
   "source": [
    "# plt.figure(figsize=(12,8), facecolor='white')\n",
    "# plt.plot( lm2distances['nose'], alpha=0.75 )\n",
    "# # plt.plot( lm2distances['left_shoulder'], alpha=0.75 )\n",
    "# # plt.plot( lm2distances['right_hip'], alpha=0.75 )\n",
    "# plt.show()"
   ]
  },
  {
   "cell_type": "code",
   "execution_count": null,
   "id": "947f9450-a3de-4c82-a847-85a1c81a8057",
   "metadata": {},
   "outputs": [],
   "source": []
  },
  {
   "cell_type": "code",
   "execution_count": null,
   "id": "b2a340fc-c556-49fd-9d82-08b2df757ecf",
   "metadata": {},
   "outputs": [],
   "source": [
    "frame_rate = 30\n",
    "num_seconds = 30"
   ]
  },
  {
   "cell_type": "code",
   "execution_count": null,
   "id": "869d01c3-5d43-4959-8605-e16b80c06edd",
   "metadata": {},
   "outputs": [],
   "source": []
  },
  {
   "cell_type": "code",
   "execution_count": null,
   "id": "b2e4380d-3895-45ed-9b5b-9163365a3a66",
   "metadata": {},
   "outputs": [],
   "source": []
  }
 ],
 "metadata": {
  "kernelspec": {
   "display_name": "Python 3 (ipykernel)",
   "language": "python",
   "name": "python3"
  },
  "language_info": {
   "codemirror_mode": {
    "name": "ipython",
    "version": 3
   },
   "file_extension": ".py",
   "mimetype": "text/x-python",
   "name": "python",
   "nbconvert_exporter": "python",
   "pygments_lexer": "ipython3",
   "version": "3.12.4"
  }
 },
 "nbformat": 4,
 "nbformat_minor": 5
}
